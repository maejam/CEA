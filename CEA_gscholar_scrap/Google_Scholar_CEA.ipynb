{
 "cells": [
  {
   "cell_type": "code",
   "execution_count": 1,
   "metadata": {},
   "outputs": [],
   "source": [
    "import json\n",
    "from scholarly import scholarly\n",
    "from serpapi import GoogleSearch"
   ]
  },
  {
   "cell_type": "code",
   "execution_count": 12,
   "metadata": {},
   "outputs": [
    {
     "name": "stdout",
     "output_type": "stream",
     "text": [
      "{\n",
      "  \"container_type\": \"Author\",\n",
      "  \"filled\": [],\n",
      "  \"source\": \"SEARCH_AUTHOR_SNIPPETS\",\n",
      "  \"scholar_id\": \"LXVfPc8AAAAJ\",\n",
      "  \"url_picture\": \"https://scholar.google.com/citations?view_op=medium_photo&user=LXVfPc8AAAAJ\",\n",
      "  \"name\": \"Eric Lander\",\n",
      "  \"affiliation\": \"Broad Institute\",\n",
      "  \"email_domain\": \"\",\n",
      "  \"interests\": [\n",
      "    \"Biology\",\n",
      "    \"Genomics\",\n",
      "    \"Genetics\",\n",
      "    \"Bioinformatics\",\n",
      "    \"Mathematics\"\n",
      "  ],\n",
      "  \"citedby\": 607530\n",
      "}\n",
      "{\n",
      "  \"container_type\": \"Author\",\n",
      "  \"filled\": [],\n",
      "  \"source\": \"SEARCH_AUTHOR_SNIPPETS\",\n",
      "  \"scholar_id\": \"O3FVg9AAAAAJ\",\n",
      "  \"url_picture\": \"https://scholar.google.com/citations?view_op=medium_photo&user=O3FVg9AAAAAJ\",\n",
      "  \"name\": \"Bert Vogelstein\",\n",
      "  \"affiliation\": \"Johns Hopkins\",\n",
      "  \"email_domain\": \"@jhmi.edu\",\n",
      "  \"interests\": [\n",
      "    \"Cancer\",\n",
      "    \"Biology\"\n",
      "  ],\n",
      "  \"citedby\": 479893\n",
      "}\n"
     ]
    }
   ],
   "source": [
    "authors = scholarly.search_keyword(\"biology\")\n",
    "count = 0\n",
    "\n",
    "for author in authors:\n",
    "    print(json.dumps(author, indent=2))\n",
    "    count += 1\n",
    "    if count == 2:\n",
    "        break"
   ]
  },
  {
   "cell_type": "code",
   "execution_count": 13,
   "metadata": {},
   "outputs": [
    {
     "name": "stdout",
     "output_type": "stream",
     "text": [
      "https://serpapi.com/search\n"
     ]
    }
   ],
   "source": [
    "CEA_request = \"csr nuclear\"\n",
    "\n",
    "params = {\n",
    "  \"engine\": \"google_scholar\",\n",
    "  \"q\": CEA_request,\n",
    "  \"api_key\": \"22ae1c4c9a1b15f10c6b1ed0674a1fe0838cd4428858d52641f3a3537cfbf69f\"\n",
    "}\n",
    "\n",
    "search = GoogleSearch(params)\n",
    "results = search.get_dict()"
   ]
  },
  {
   "cell_type": "code",
   "execution_count": 21,
   "metadata": {},
   "outputs": [
    {
     "data": {
      "text/plain": [
       "dict_keys(['search_metadata', 'search_parameters', 'search_information', 'organic_results', 'related_searches', 'pagination', 'serpapi_pagination'])"
      ]
     },
     "execution_count": 21,
     "metadata": {},
     "output_type": "execute_result"
    }
   ],
   "source": [
    "results.keys()"
   ]
  },
  {
   "cell_type": "code",
   "execution_count": 24,
   "metadata": {},
   "outputs": [
    {
     "data": {
      "text/plain": [
       "list"
      ]
     },
     "execution_count": 24,
     "metadata": {},
     "output_type": "execute_result"
    }
   ],
   "source": [
    "type(results['organic_results'])"
   ]
  },
  {
   "cell_type": "code",
   "execution_count": 31,
   "metadata": {},
   "outputs": [],
   "source": [
    "example_0 = results['organic_results'][0]\n",
    "json_test = json.dumps(example_0)\n",
    "with open(\"test_json_CEA\", \"w\") as outfile:\n",
    "    outfile.write(json_test)"
   ]
  }
 ],
 "metadata": {
  "kernelspec": {
   "display_name": "Python 3",
   "language": "python",
   "name": "python3"
  },
  "language_info": {
   "codemirror_mode": {
    "name": "ipython",
    "version": 3
   },
   "file_extension": ".py",
   "mimetype": "text/x-python",
   "name": "python",
   "nbconvert_exporter": "python",
   "pygments_lexer": "ipython3",
   "version": "3.7.4"
  }
 },
 "nbformat": 4,
 "nbformat_minor": 2
}
